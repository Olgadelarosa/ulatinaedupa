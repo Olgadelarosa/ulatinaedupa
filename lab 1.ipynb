{
 "cells": [
  {
   "cell_type": "code",
   "execution_count": 6,
   "id": "3733c5e1",
   "metadata": {},
   "outputs": [
    {
     "name": "stdout",
     "output_type": "stream",
     "text": [
      "194.87171000000012\n"
     ]
    }
   ],
   "source": [
    "# Calculando el interes compuesto \n",
    "print (100 * 1.1 ** 7)\n"
   ]
  },
  {
   "cell_type": "code",
   "execution_count": 8,
   "id": "28c5fadf",
   "metadata": {},
   "outputs": [
    {
     "name": "stdout",
     "output_type": "stream",
     "text": [
      "100\n"
     ]
    }
   ],
   "source": [
    "# Crear una variable\n",
    "a = 100\n",
    "\n",
    "# Imprimir la variable\n",
    "print (a)"
   ]
  },
  {
   "cell_type": "code",
   "execution_count": 10,
   "id": "307c4de7",
   "metadata": {},
   "outputs": [
    {
     "name": "stdout",
     "output_type": "stream",
     "text": [
      "194.87171000000012\n"
     ]
    }
   ],
   "source": [
    "# Crear la vaariable ahorros y asignarle el alor de 100\n",
    "ahorro = 100\n",
    "\n",
    "# Crear la variable multiplicador anual\n",
    "mult_anual = 1.1\n",
    "\n",
    "# Calcular el resultado del interes compuesto\n",
    "result = ahorro * mult_anual ** 7\n",
    "\n",
    "# Printout result\n",
    "print (result)"
   ]
  },
  {
   "cell_type": "code",
   "execution_count": 12,
   "id": "33290739",
   "metadata": {},
   "outputs": [
    {
     "name": "stdout",
     "output_type": "stream",
     "text": [
      "<class 'str'>\n",
      "<class 'bool'>\n"
     ]
    }
   ],
   "source": [
    "# Crear variable de cadena desc\n",
    "desc: str = \"cadena de texto\"\n",
    "    \n",
    "\n",
    "# Crear la variable boooleana profit\n",
    "profit: bool = True\n",
    "    \n",
    "print (type(desc))\n",
    "print (type(profit))"
   ]
  },
  {
   "cell_type": "code",
   "execution_count": 16,
   "id": "4c5b3f47",
   "metadata": {},
   "outputs": [
    {
     "name": "stdout",
     "output_type": "stream",
     "text": [
      "110.00000000000001\n"
     ]
    }
   ],
   "source": [
    "ahorros = 100\n",
    "mult = 1.1\n",
    "desc = \"interes compuesto\"\n",
    "\n",
    "# Asignar el producto de ahorros y mult a años e imprimir\n",
    "año1 = ahorros * mult \n",
    "\n",
    "print (año1)"
   ]
  },
  {
   "cell_type": "code",
   "execution_count": 17,
   "id": "ad1e0676",
   "metadata": {},
   "outputs": [
    {
     "name": "stdout",
     "output_type": "stream",
     "text": [
      "<class 'float'>\n"
     ]
    }
   ],
   "source": [
    "# Imprima el tipo de dato de año1\n",
    "print(type(año1))"
   ]
  },
  {
   "cell_type": "code",
   "execution_count": 18,
   "id": "5a07f909",
   "metadata": {},
   "outputs": [
    {
     "name": "stdout",
     "output_type": "stream",
     "text": [
      "interes compuestointeres compuesto\n"
     ]
    }
   ],
   "source": [
    "# Asigne la sume de desc y desc en dobledesc\n",
    "dobledesc = desc + desc\n",
    "\n",
    "# Imprimir dobledesc\n",
    "print (dobledesc)"
   ]
  },
  {
   "cell_type": "code",
   "execution_count": 19,
   "id": "c03d6c16",
   "metadata": {},
   "outputs": [
    {
     "ename": "TypeError",
     "evalue": "can only concatenate str (not \"int\") to str",
     "output_type": "error",
     "traceback": [
      "\u001b[0;31m---------------------------------------------------------------------------\u001b[0m",
      "\u001b[0;31mTypeError\u001b[0m                                 Traceback (most recent call last)",
      "Cell \u001b[0;32mIn[19], line 5\u001b[0m\n\u001b[1;32m      2\u001b[0m resultado \u001b[38;5;241m=\u001b[39m \u001b[38;5;241m100\u001b[39m \u001b[38;5;241m*\u001b[39m \u001b[38;5;241m1.1\u001b[39m \u001b[38;5;241m*\u001b[39m\u001b[38;5;241m*\u001b[39m \u001b[38;5;241m7\u001b[39m\n\u001b[1;32m      4\u001b[0m \u001b[38;5;66;03m# Fix the printout\u001b[39;00m\n\u001b[0;32m----> 5\u001b[0m \u001b[38;5;28mprint\u001b[39m (\u001b[38;5;124;43m\"\u001b[39;49m\u001b[38;5;124;43mEmpezamos con $\u001b[39;49m\u001b[38;5;124;43m\"\u001b[39;49m\u001b[43m \u001b[49m\u001b[38;5;241;43m+\u001b[39;49m\u001b[43m \u001b[49m\u001b[43mahorros\u001b[49m \u001b[38;5;241m+\u001b[39m \u001b[38;5;124m\"\u001b[39m\u001b[38;5;124m y ahora mismo tengo $\u001b[39m\u001b[38;5;124m\"\u001b[39m \u001b[38;5;241m+\u001b[39m resultado \u001b[38;5;241m+\u001b[39m \u001b[38;5;124m\"\u001b[39m\u001b[38;5;124m. Que bien!\u001b[39m\u001b[38;5;124m\"\u001b[39m)\n",
      "\u001b[0;31mTypeError\u001b[0m: can only concatenate str (not \"int\") to str"
     ]
    }
   ],
   "source": [
    "ahorros = 100\n",
    "resultado = 100 * 1.1 ** 7\n",
    "\n",
    "# Fix the printout\n",
    "print (\"Empezamos con $\" + ahorros + \" y ahora mismo tengo $\" + resultado + \". Que bien!\")"
   ]
  },
  {
   "cell_type": "code",
   "execution_count": 20,
   "id": "bca6cfcf",
   "metadata": {},
   "outputs": [
    {
     "name": "stdout",
     "output_type": "stream",
     "text": [
      "Empezamos con $100 y ahora mismo tengo $194.87171000000012. Que bien!\n"
     ]
    }
   ],
   "source": [
    "ahorros = 100\n",
    "resultado = 100 * 1.1 ** 7\n",
    "\n",
    "# Fix the printout\n",
    "print (\"Empezamos con $\" + str(ahorros) + \" y ahora mismo tengo $\" + str(resultado) + \". Que bien!\")"
   ]
  },
  {
   "cell_type": "code",
   "execution_count": 21,
   "id": "71083bee",
   "metadata": {},
   "outputs": [
    {
     "name": "stdout",
     "output_type": "stream",
     "text": [
      "3.1415926\n",
      "<class 'float'>\n"
     ]
    }
   ],
   "source": [
    "# Definicion de pi\n",
    "pi_string = \"3.1415926\"\n",
    "\n",
    "# Convierte pi_string a pi_float\n",
    "pi_float = float(pi_string)\n",
    "\n",
    "print (pi_float)\n",
    "print (type(pi_float))"
   ]
  },
  {
   "cell_type": "code",
   "execution_count": null,
   "id": "50516704",
   "metadata": {},
   "outputs": [],
   "source": []
  }
 ],
 "metadata": {
  "kernelspec": {
   "display_name": "Python 3 (ipykernel)",
   "language": "python",
   "name": "python3"
  },
  "language_info": {
   "codemirror_mode": {
    "name": "ipython",
    "version": 3
   },
   "file_extension": ".py",
   "mimetype": "text/x-python",
   "name": "python",
   "nbconvert_exporter": "python",
   "pygments_lexer": "ipython3",
   "version": "3.10.9"
  }
 },
 "nbformat": 4,
 "nbformat_minor": 5
}
